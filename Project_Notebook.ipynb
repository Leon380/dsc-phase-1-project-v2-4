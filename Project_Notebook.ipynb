{
 "cells": [
  {
   "cell_type": "markdown",
   "metadata": {},
   "source": [
    "## Final Project Submission\n",
    "\n",
    "Please fill out:\n",
    "* Student name: **Leonard Rotich**\n",
    "* Student pace: **Full Time**\n",
    "* Scheduled project review date/time: \n",
    "* Instructor name: ** William Okomba**\n",
    "* Blog post URL:\n"
   ]
  },
  {
   "cell_type": "markdown",
   "metadata": {},
   "source": [
    "# Microsoft Movie Studio Proposal.\n",
    "\n",
    "## Objectives\n",
    "The main aim of this analysis is to advise Microsoft on which movies to produce and the cost involved.  Basing on the current moving studios, descriptive analysis on the movie stores and orders as to have a clear picture of which movies are profitable. This will then be used by Microsoft to put an up to date movies store.\n",
    "\n",
    "## Business problem\n",
    "Microsoft needs to open an up to date movie studio with all movies incorporated in the store so as to be stay afloat in the market. This project sought to answer the following.\n",
    ">> Is the film industry profitable?\n",
    "\n",
    ">> How has the film industry perform in the previous years?\n",
    "\n",
    ">> Does film producer affect the performance of a film?\n",
    "\n",
    ">> Is there any preference in relation to geographical location?\n",
    "\n",
    "\n"
   ]
  },
  {
   "cell_type": "markdown",
   "metadata": {},
   "source": [
    "# Data\n",
    "The data used on this analysis is obtained from the movie studios that are currently in the market like `bom.movie_gross.csv.gz.\n",
    "Since we need the best films to recommend we will then use the top most performing films to do some analysis and make a conclusion on them."
   ]
  },
  {
   "cell_type": "code",
   "execution_count": 1,
   "metadata": {},
   "outputs": [],
   "source": [
    "# Your code here - remember to use markdown cells for comments as well!\n",
    "import pandas as pd # for df\n",
    "import numpy as np # for calculation\n",
    "#import seborn and matplotlip for visualization \n",
    "import matplotlib.pyplot as plt \n",
    "import seaborn as sns\n",
    "%matplotlib inline \n",
    "\n"
   ]
  },
  {
   "cell_type": "markdown",
   "metadata": {},
   "source": [
    "Loading csv data bom.movie_gross.csv using `pd.read_csv`\n"
   ]
  },
  {
   "cell_type": "code",
   "execution_count": 2,
   "metadata": {},
   "outputs": [
    {
     "data": {
      "text/html": [
       "<div>\n",
       "<style scoped>\n",
       "    .dataframe tbody tr th:only-of-type {\n",
       "        vertical-align: middle;\n",
       "    }\n",
       "\n",
       "    .dataframe tbody tr th {\n",
       "        vertical-align: top;\n",
       "    }\n",
       "\n",
       "    .dataframe thead th {\n",
       "        text-align: right;\n",
       "    }\n",
       "</style>\n",
       "<table border=\"1\" class=\"dataframe\">\n",
       "  <thead>\n",
       "    <tr style=\"text-align: right;\">\n",
       "      <th></th>\n",
       "      <th>title</th>\n",
       "      <th>studio</th>\n",
       "      <th>domestic_gross</th>\n",
       "      <th>foreign_gross</th>\n",
       "      <th>year</th>\n",
       "    </tr>\n",
       "  </thead>\n",
       "  <tbody>\n",
       "    <tr>\n",
       "      <th>0</th>\n",
       "      <td>Toy Story 3</td>\n",
       "      <td>BV</td>\n",
       "      <td>415000000.0</td>\n",
       "      <td>652000000</td>\n",
       "      <td>2010</td>\n",
       "    </tr>\n",
       "    <tr>\n",
       "      <th>1</th>\n",
       "      <td>Alice in Wonderland (2010)</td>\n",
       "      <td>BV</td>\n",
       "      <td>334200000.0</td>\n",
       "      <td>691300000</td>\n",
       "      <td>2010</td>\n",
       "    </tr>\n",
       "    <tr>\n",
       "      <th>2</th>\n",
       "      <td>Harry Potter and the Deathly Hallows Part 1</td>\n",
       "      <td>WB</td>\n",
       "      <td>296000000.0</td>\n",
       "      <td>664300000</td>\n",
       "      <td>2010</td>\n",
       "    </tr>\n",
       "    <tr>\n",
       "      <th>3</th>\n",
       "      <td>Inception</td>\n",
       "      <td>WB</td>\n",
       "      <td>292600000.0</td>\n",
       "      <td>535700000</td>\n",
       "      <td>2010</td>\n",
       "    </tr>\n",
       "    <tr>\n",
       "      <th>4</th>\n",
       "      <td>Shrek Forever After</td>\n",
       "      <td>P/DW</td>\n",
       "      <td>238700000.0</td>\n",
       "      <td>513900000</td>\n",
       "      <td>2010</td>\n",
       "    </tr>\n",
       "  </tbody>\n",
       "</table>\n",
       "</div>"
      ],
      "text/plain": [
       "                                         title studio  domestic_gross  \\\n",
       "0                                  Toy Story 3     BV     415000000.0   \n",
       "1                   Alice in Wonderland (2010)     BV     334200000.0   \n",
       "2  Harry Potter and the Deathly Hallows Part 1     WB     296000000.0   \n",
       "3                                    Inception     WB     292600000.0   \n",
       "4                          Shrek Forever After   P/DW     238700000.0   \n",
       "\n",
       "  foreign_gross  year  \n",
       "0     652000000  2010  \n",
       "1     691300000  2010  \n",
       "2     664300000  2010  \n",
       "3     535700000  2010  \n",
       "4     513900000  2010  "
      ]
     },
     "execution_count": 2,
     "metadata": {},
     "output_type": "execute_result"
    }
   ],
   "source": [
    "# Loading csv data\n",
    "df = pd.read_csv('data/bom.movie_gross.csv.gz')\n",
    "# previewing the first 5 rows\n",
    "df.head()"
   ]
  },
  {
   "cell_type": "code",
   "execution_count": 560,
   "metadata": {},
   "outputs": [
    {
     "data": {
      "text/html": [
       "<div>\n",
       "<style scoped>\n",
       "    .dataframe tbody tr th:only-of-type {\n",
       "        vertical-align: middle;\n",
       "    }\n",
       "\n",
       "    .dataframe tbody tr th {\n",
       "        vertical-align: top;\n",
       "    }\n",
       "\n",
       "    .dataframe thead th {\n",
       "        text-align: right;\n",
       "    }\n",
       "</style>\n",
       "<table border=\"1\" class=\"dataframe\">\n",
       "  <thead>\n",
       "    <tr style=\"text-align: right;\">\n",
       "      <th></th>\n",
       "      <th>title</th>\n",
       "      <th>studio</th>\n",
       "      <th>domestic_gross</th>\n",
       "      <th>foreign_gross</th>\n",
       "      <th>year</th>\n",
       "    </tr>\n",
       "  </thead>\n",
       "  <tbody>\n",
       "    <tr>\n",
       "      <th>3382</th>\n",
       "      <td>The Quake</td>\n",
       "      <td>Magn.</td>\n",
       "      <td>6200.0</td>\n",
       "      <td>NaN</td>\n",
       "      <td>2018</td>\n",
       "    </tr>\n",
       "    <tr>\n",
       "      <th>3383</th>\n",
       "      <td>Edward II (2018 re-release)</td>\n",
       "      <td>FM</td>\n",
       "      <td>4800.0</td>\n",
       "      <td>NaN</td>\n",
       "      <td>2018</td>\n",
       "    </tr>\n",
       "    <tr>\n",
       "      <th>3384</th>\n",
       "      <td>El Pacto</td>\n",
       "      <td>Sony</td>\n",
       "      <td>2500.0</td>\n",
       "      <td>NaN</td>\n",
       "      <td>2018</td>\n",
       "    </tr>\n",
       "    <tr>\n",
       "      <th>3385</th>\n",
       "      <td>The Swan</td>\n",
       "      <td>Synergetic</td>\n",
       "      <td>2400.0</td>\n",
       "      <td>NaN</td>\n",
       "      <td>2018</td>\n",
       "    </tr>\n",
       "    <tr>\n",
       "      <th>3386</th>\n",
       "      <td>An Actor Prepares</td>\n",
       "      <td>Grav.</td>\n",
       "      <td>1700.0</td>\n",
       "      <td>NaN</td>\n",
       "      <td>2018</td>\n",
       "    </tr>\n",
       "  </tbody>\n",
       "</table>\n",
       "</div>"
      ],
      "text/plain": [
       "                            title      studio  domestic_gross foreign_gross  \\\n",
       "3382                    The Quake       Magn.          6200.0           NaN   \n",
       "3383  Edward II (2018 re-release)          FM          4800.0           NaN   \n",
       "3384                     El Pacto        Sony          2500.0           NaN   \n",
       "3385                     The Swan  Synergetic          2400.0           NaN   \n",
       "3386            An Actor Prepares       Grav.          1700.0           NaN   \n",
       "\n",
       "      year  \n",
       "3382  2018  \n",
       "3383  2018  \n",
       "3384  2018  \n",
       "3385  2018  \n",
       "3386  2018  "
      ]
     },
     "execution_count": 560,
     "metadata": {},
     "output_type": "execute_result"
    }
   ],
   "source": [
    "# Preview the last 5 rows\n",
    "df.tail()"
   ]
  },
  {
   "cell_type": "markdown",
   "metadata": {},
   "source": [
    "## Understanding the Data\n",
    "\n",
    "Exploring a dataset for better understanding of what it contains hence making an informed business decisions.\n"
   ]
  },
  {
   "cell_type": "code",
   "execution_count": 561,
   "metadata": {},
   "outputs": [
    {
     "data": {
      "text/plain": [
       "['title', 'studio', 'domestic_gross', 'foreign_gross', 'year']"
      ]
     },
     "execution_count": 561,
     "metadata": {},
     "output_type": "execute_result"
    }
   ],
   "source": [
    "# check the column names\n",
    "list(df.columns)"
   ]
  },
  {
   "cell_type": "code",
   "execution_count": 562,
   "metadata": {},
   "outputs": [
    {
     "name": "stdout",
     "output_type": "stream",
     "text": [
      "The dataframe has:\n",
      " - 3387 Rows\n",
      " - 5 colums \n"
     ]
    }
   ],
   "source": [
    "# Shape of the data\n",
    "def data_shape(data):\n",
    "    print(f\"The dataframe has:\\n - {data.shape[0]} Rows\\n - {data.shape[1]} colums \")\n",
    "\n",
    "data_shape(df)"
   ]
  },
  {
   "cell_type": "code",
   "execution_count": 563,
   "metadata": {},
   "outputs": [
    {
     "name": "stdout",
     "output_type": "stream",
     "text": [
      "<class 'pandas.core.frame.DataFrame'>\n",
      "RangeIndex: 3387 entries, 0 to 3386\n",
      "Data columns (total 5 columns):\n",
      " #   Column          Non-Null Count  Dtype  \n",
      "---  ------          --------------  -----  \n",
      " 0   title           3387 non-null   object \n",
      " 1   studio          3382 non-null   object \n",
      " 2   domestic_gross  3359 non-null   float64\n",
      " 3   foreign_gross   2037 non-null   object \n",
      " 4   year            3387 non-null   int64  \n",
      "dtypes: float64(1), int64(1), object(3)\n",
      "memory usage: 132.4+ KB\n"
     ]
    }
   ],
   "source": [
    "# Data information \n",
    "df.info()"
   ]
  },
  {
   "cell_type": "code",
   "execution_count": 564,
   "metadata": {},
   "outputs": [
    {
     "data": {
      "text/html": [
       "<div>\n",
       "<style scoped>\n",
       "    .dataframe tbody tr th:only-of-type {\n",
       "        vertical-align: middle;\n",
       "    }\n",
       "\n",
       "    .dataframe tbody tr th {\n",
       "        vertical-align: top;\n",
       "    }\n",
       "\n",
       "    .dataframe thead th {\n",
       "        text-align: right;\n",
       "    }\n",
       "</style>\n",
       "<table border=\"1\" class=\"dataframe\">\n",
       "  <thead>\n",
       "    <tr style=\"text-align: right;\">\n",
       "      <th></th>\n",
       "      <th>domestic_gross</th>\n",
       "      <th>year</th>\n",
       "    </tr>\n",
       "  </thead>\n",
       "  <tbody>\n",
       "    <tr>\n",
       "      <th>count</th>\n",
       "      <td>3.359000e+03</td>\n",
       "      <td>3387.000000</td>\n",
       "    </tr>\n",
       "    <tr>\n",
       "      <th>mean</th>\n",
       "      <td>2.874585e+07</td>\n",
       "      <td>2013.958075</td>\n",
       "    </tr>\n",
       "    <tr>\n",
       "      <th>std</th>\n",
       "      <td>6.698250e+07</td>\n",
       "      <td>2.478141</td>\n",
       "    </tr>\n",
       "    <tr>\n",
       "      <th>min</th>\n",
       "      <td>1.000000e+02</td>\n",
       "      <td>2010.000000</td>\n",
       "    </tr>\n",
       "    <tr>\n",
       "      <th>25%</th>\n",
       "      <td>1.200000e+05</td>\n",
       "      <td>2012.000000</td>\n",
       "    </tr>\n",
       "    <tr>\n",
       "      <th>50%</th>\n",
       "      <td>1.400000e+06</td>\n",
       "      <td>2014.000000</td>\n",
       "    </tr>\n",
       "    <tr>\n",
       "      <th>75%</th>\n",
       "      <td>2.790000e+07</td>\n",
       "      <td>2016.000000</td>\n",
       "    </tr>\n",
       "    <tr>\n",
       "      <th>max</th>\n",
       "      <td>9.367000e+08</td>\n",
       "      <td>2018.000000</td>\n",
       "    </tr>\n",
       "  </tbody>\n",
       "</table>\n",
       "</div>"
      ],
      "text/plain": [
       "       domestic_gross         year\n",
       "count    3.359000e+03  3387.000000\n",
       "mean     2.874585e+07  2013.958075\n",
       "std      6.698250e+07     2.478141\n",
       "min      1.000000e+02  2010.000000\n",
       "25%      1.200000e+05  2012.000000\n",
       "50%      1.400000e+06  2014.000000\n",
       "75%      2.790000e+07  2016.000000\n",
       "max      9.367000e+08  2018.000000"
      ]
     },
     "execution_count": 564,
     "metadata": {},
     "output_type": "execute_result"
    }
   ],
   "source": [
    "# describe for descriptive statistics\n",
    "df.describe()"
   ]
  },
  {
   "cell_type": "markdown",
   "metadata": {},
   "source": [
    "### 1. Duplicates\n",
    "Checking of ther are dublicates in the data and the removing them "
   ]
  },
  {
   "cell_type": "code",
   "execution_count": 565,
   "metadata": {},
   "outputs": [
    {
     "name": "stdout",
     "output_type": "stream",
     "text": [
      "The data has no duplicate.\n"
     ]
    }
   ],
   "source": [
    "# duplicate entries\n",
    "# create a funcion to identify and add dublicate from dataframe\n",
    "def checking_duplicates(data):\n",
    "    duplicates = [] # empty list to store the bool results\n",
    "    for d in data.duplicated():\n",
    "        duplicates.append(d)\n",
    "    # indetify if there is ant duplicate which we expect to be True value\n",
    "    duplicates_set = set(duplicates) \n",
    "    if (len(duplicates_set) == 1):\n",
    "        print('The data has no duplicate.')\n",
    "    else:\n",
    "        no_true = 0\n",
    "        for val in duplicates:\n",
    "            if (val == True):\n",
    "                no_true +=1\n",
    "        # calculate the percentage of the dublicates \n",
    "        dup_percnt = np.round(((no_true / len(data)) *100), 2)\n",
    "        print(f'There are {no_true } dublicate rows in the data.\\nWhich translate to  {dup_percnt}% of the total data.')\n",
    "\n",
    "checking_duplicates(df)\n"
   ]
  },
  {
   "cell_type": "code",
   "execution_count": 566,
   "metadata": {},
   "outputs": [
    {
     "name": "stdout",
     "output_type": "stream",
     "text": [
      "The column Title has 1 duplicated rows.\n",
      "Which trasnlate to 0.03% of the data set.\n"
     ]
    }
   ],
   "source": [
    "# cchecking if there are duplicate on the movie_id\n",
    "def unique_column_duplicates(data, column):\n",
    "    duplicates = [] \n",
    "    for d in data[column].duplicated():\n",
    "        duplicates.append(d)\n",
    "    # identify if there are any duplicates\n",
    "    duplicates_set = set(duplicates)\n",
    "    if (len(duplicates_set) == 1):\n",
    "        print(f\"The column {column.title()} has no duplicates\")\n",
    "    else:\n",
    "        no_true = 0\n",
    "        for val in duplicates:\n",
    "            if (val == True):\n",
    "                no_true += 1\n",
    "                # percentage of the data represented by duplicates \n",
    "        duplicates_percentage = np.round(((no_true / len(data)) * 100), 2)\n",
    "        print(f\"The column {column.title()} has {no_true} duplicated rows.\\nWhich trasnlate to {duplicates_percentage}% of the data set.\")\n",
    "\n",
    "unique_column_duplicates(df, 'title')   "
   ]
  },
  {
   "cell_type": "markdown",
   "metadata": {},
   "source": [
    "For the unique column there is only 1 dublicate which translate to 0.03% hence we can drop the row\n"
   ]
  },
  {
   "cell_type": "code",
   "execution_count": 567,
   "metadata": {},
   "outputs": [],
   "source": [
    "# Dropping the unique duplicare row \n",
    "df.drop_duplicates(subset='title', keep=\"first\", inplace=True)"
   ]
  },
  {
   "cell_type": "code",
   "execution_count": 568,
   "metadata": {},
   "outputs": [
    {
     "name": "stdout",
     "output_type": "stream",
     "text": [
      "The column Title has no duplicates\n"
     ]
    }
   ],
   "source": [
    "# Checking Unique dublicate\n",
    "unique_column_duplicates(df, 'title')"
   ]
  },
  {
   "cell_type": "markdown",
   "metadata": {},
   "source": [
    "### 2. Missing Values\n",
    "Now we need to check of the are missing values in the data set"
   ]
  },
  {
   "cell_type": "code",
   "execution_count": 569,
   "metadata": {},
   "outputs": [
    {
     "data": {
      "text/html": [
       "<div>\n",
       "<style scoped>\n",
       "    .dataframe tbody tr th:only-of-type {\n",
       "        vertical-align: middle;\n",
       "    }\n",
       "\n",
       "    .dataframe tbody tr th {\n",
       "        vertical-align: top;\n",
       "    }\n",
       "\n",
       "    .dataframe thead th {\n",
       "        text-align: right;\n",
       "    }\n",
       "</style>\n",
       "<table border=\"1\" class=\"dataframe\">\n",
       "  <thead>\n",
       "    <tr style=\"text-align: right;\">\n",
       "      <th></th>\n",
       "      <th>Missing</th>\n",
       "      <th>Percentage(%)</th>\n",
       "    </tr>\n",
       "  </thead>\n",
       "  <tbody>\n",
       "    <tr>\n",
       "      <th>foreign_gross</th>\n",
       "      <td>1349</td>\n",
       "      <td>0.398405</td>\n",
       "    </tr>\n",
       "    <tr>\n",
       "      <th>domestic_gross</th>\n",
       "      <td>28</td>\n",
       "      <td>0.008269</td>\n",
       "    </tr>\n",
       "    <tr>\n",
       "      <th>studio</th>\n",
       "      <td>5</td>\n",
       "      <td>0.001477</td>\n",
       "    </tr>\n",
       "  </tbody>\n",
       "</table>\n",
       "</div>"
      ],
      "text/plain": [
       "                Missing  Percentage(%)\n",
       "foreign_gross      1349       0.398405\n",
       "domestic_gross       28       0.008269\n",
       "studio                5       0.001477"
      ]
     },
     "execution_count": 569,
     "metadata": {},
     "output_type": "execute_result"
    }
   ],
   "source": [
    "# Identifying missing values\n",
    "missing_values = df.isnull().sum().sort_values(ascending=False)\n",
    "# Calculating missing value percentage\n",
    "missing_val_percnt =  ((df.isnull().sum()/len(df)).sort_values(ascending=False))\n",
    "# creating a dataframe for missing values and missing percentage\n",
    "miss = pd.DataFrame({'Missing': missing_values, 'Percentage(%)':missing_val_percnt })\n",
    "# dropping the that are missing \n",
    "miss.drop(miss[miss[\"Percentage(%)\"] == 0].index, inplace = True)\n",
    "miss "
   ]
  },
  {
   "cell_type": "code",
   "execution_count": 570,
   "metadata": {},
   "outputs": [
    {
     "data": {
      "image/png": "[encoded data removed]",
      "text/plain": [
       "<Figure size 720x576 with 1 Axes>"
      ]
     },
     "metadata": {
      "needs_background": "light"
     },
     "output_type": "display_data"
    }
   ],
   "source": [
    "# Graphically represent the missing values\n",
    "fig, axes = plt.subplots(figsize = (10, 8))\n",
    "# plot a bargraph\n",
    "sns.barplot(x = miss.index , y = miss[\"Missing\"])\n",
    "# Labeling axis\n",
    "plt.xlabel(\"Columns\", fontdict={\"color\": \"black\", \"size\": 15})\n",
    "plt.ylabel(\"Missing\", fontdict={\"color\": \"black\", \"size\": 15})\n",
    "plt.title(\"Missing Values per Column\", fontsize = 18)\n",
    "plt.show();\n"
   ]
  },
  {
   "cell_type": "markdown",
   "metadata": {},
   "source": [
    "Foreign column has a total of 1346 missing values which translate to 39.84% of the data set. This value is high so we can’t drop it. The only appropriate way is to replace with the mean and drop the rows of missing values in domestic gross."
   ]
  },
  {
   "cell_type": "code",
   "execution_count": 571,
   "metadata": {},
   "outputs": [],
   "source": [
    "# Droping missing values of domestic_gross.\n",
    "\n",
    "df.dropna(subset=['domestic_gross', 'studio'], inplace=True)"
   ]
  },
  {
   "cell_type": "code",
   "execution_count": 572,
   "metadata": {},
   "outputs": [],
   "source": [
    "\n",
    "# converting foreign_gross to float\n",
    "df['foreign_gross'] = df['foreign_gross'].apply(pd.to_numeric, errors='coerce')\n",
    "# replaciing missing valuew of foreign_gross with it's mean\n",
    "mean_foreign_gross = np.round(df['foreign_gross'].median(),0)\n",
    "df['foreign_gross'].fillna(value=mean_foreign_gross, inplace = True)\n"
   ]
  },
  {
   "cell_type": "code",
   "execution_count": 573,
   "metadata": {},
   "outputs": [
    {
     "name": "stdout",
     "output_type": "stream",
     "text": [
      "<class 'pandas.core.frame.DataFrame'>\n",
      "Int64Index: 3355 entries, 0 to 3386\n",
      "Data columns (total 5 columns):\n",
      " #   Column          Non-Null Count  Dtype  \n",
      "---  ------          --------------  -----  \n",
      " 0   title           3355 non-null   object \n",
      " 1   studio          3355 non-null   object \n",
      " 2   domestic_gross  3355 non-null   float64\n",
      " 3   foreign_gross   3355 non-null   float64\n",
      " 4   year            3355 non-null   int64  \n",
      "dtypes: float64(2), int64(1), object(2)\n",
      "memory usage: 157.3+ KB\n"
     ]
    }
   ],
   "source": [
    "#Confirniming the info\n",
    "df.info()"
   ]
  },
  {
   "cell_type": "markdown",
   "metadata": {},
   "source": [
    "### 3. Outliers\n",
    "These are extreme data points that vary immensely from the other points and we are goig to use ```IQR``` to identifying and removing outliers."
   ]
  },
  {
   "cell_type": "markdown",
   "metadata": {},
   "source": [
    "Using Boxplot to check outliers"
   ]
  },
  {
   "cell_type": "code",
   "execution_count": 574,
   "metadata": {},
   "outputs": [
    {
     "data": {
      "image/png": "[encoded data removed]",
      "text/plain": [
       "<Figure size 432x288 with 1 Axes>"
      ]
     },
     "metadata": {
      "needs_background": "light"
     },
     "output_type": "display_data"
    }
   ],
   "source": [
    "# checking outliers on domestic_gross\n",
    "sns.boxplot(data=df, x=\"domestic_gross\");"
   ]
  },
  {
   "cell_type": "code",
   "execution_count": 575,
   "metadata": {},
   "outputs": [
    {
     "data": {
      "image/png": "[encoded data removed]",
      "text/plain": [
       "<Figure size 432x288 with 1 Axes>"
      ]
     },
     "metadata": {
      "needs_background": "light"
     },
     "output_type": "display_data"
    }
   ],
   "source": [
    "# checking outliers on foreign_gross\n",
    "sns.boxplot(data=df, x=\"foreign_gross\");"
   ]
  },
  {
   "cell_type": "markdown",
   "metadata": {},
   "source": [
    "From the above boxplot there are a lot of outliers. In real movie industies  there are some films whoch are produced and won't make it in the market so it is wise not to drop them."
   ]
  },
  {
   "cell_type": "markdown",
   "metadata": {},
   "source": [
    "# Visualization\n",
    "Plotting a pie chart to compare domestic and foreign gross\n"
   ]
  },
  {
   "cell_type": "code",
   "execution_count": 576,
   "metadata": {},
   "outputs": [
    {
     "data": {
      "image/png": "[encoded data removed]",
      "text/plain": [
       "<Figure size 576x576 with 1 Axes>"
      ]
     },
     "metadata": {},
     "output_type": "display_data"
    }
   ],
   "source": [
    "# tabulating data for pai chart\n",
    "data = (df['foreign_gross'].sum(), df['domestic_gross'].sum())\n",
    "keys = ('foreign gross', 'domestic_gross')\n",
    "\n",
    "# define Seaborn color palette to use\n",
    "palette_color = sns.color_palette('bright')\n",
    "\n",
    "# plotting data on chart\n",
    "fig  = plt.subplots(figsize = (8,8))\n",
    "plt.pie(data, labels=keys, colors=palette_color, autopct='%.0f%%')\n",
    "\n",
    "# Title\n",
    "plt.title('Gross Income ')\n",
    "\n",
    "# displaying chart\n",
    "plt.show();\n"
   ]
  },
  {
   "cell_type": "markdown",
   "metadata": {},
   "source": [
    "From the above pie chart it is evidence that the foreign market is more profitable totalling to 65% of the total revenue.\n",
    "\n",
    "Plot a scater chart domestic against foreign gross to see the relationship between the domestic and foreign market."
   ]
  },
  {
   "cell_type": "code",
   "execution_count": 588,
   "metadata": {},
   "outputs": [
    {
     "data": {
      "image/png": "[encoded data removed]",
      "text/plain": [
       "<Figure size 720x432 with 1 Axes>"
      ]
     },
     "metadata": {
      "needs_background": "light"
     },
     "output_type": "display_data"
    }
   ],
   "source": [
    "# Plotting scatter graph using matplotlib\n",
    "tackle_figure, ax = plt.subplots(figsize=(10, 6))\n",
    "ax.scatter(df['foreign_gross'], df[\"domestic_gross\"])\n",
    "ax.set_title('Scatter Plot')\n",
    "ax.set_ylabel('Domestic Gross')\n",
    "ax.set_xlabel('Foreign Gross');"
   ]
  },
  {
   "cell_type": "markdown",
   "metadata": {},
   "source": [
    "There is a positive correlation between domestic market and foreign market. However the relationship is not that strong this might be due to diffrence prefrences in relation to loction."
   ]
  },
  {
   "cell_type": "markdown",
   "metadata": {},
   "source": [
    "Which are the top watched movies on both domestic and foreign market?\n"
   ]
  },
  {
   "cell_type": "code",
   "execution_count": 578,
   "metadata": {},
   "outputs": [],
   "source": [
    "# Most watched movies on domestic market\n",
    "# Creating new dom_df\n",
    "dom_df = df[['title','studio', 'domestic_gross', 'year']].copy()\n",
    "# Sort the Domestic column in descending order\n",
    "\n",
    "dom_df = dom_df.sort_values('domestic_gross', ascending=False)\n",
    "dom_df_top_10 = dom_df.head(10)"
   ]
  },
  {
   "cell_type": "code",
   "execution_count": 579,
   "metadata": {},
   "outputs": [],
   "source": [
    "# Most watched movies on foreign market\n",
    "# Creating new dom_df\n",
    "forgn_df = df[['title', 'studio', 'foreign_gross', 'year']].copy()\n",
    "# Sort the Domestic column in descending order\n",
    "\n",
    "forgn_df= forgn_df.sort_values('foreign_gross', ascending=False)\n",
    "forgn_df_top_10 = forgn_df.head(10)"
   ]
  },
  {
   "cell_type": "code",
   "execution_count": 580,
   "metadata": {},
   "outputs": [],
   "source": [
    "\n",
    "top_10_forgn_movies = list(forgn_df_top_10['title'])\n",
    "top_10_forgn_gross = forgn_df_top_10.foreign_gross\n"
   ]
  },
  {
   "cell_type": "code",
   "execution_count": 581,
   "metadata": {},
   "outputs": [
    {
     "data": {
      "image/png": "[encoded data removed]",
      "text/plain": [
       "<Figure size 720x576 with 1 Axes>"
      ]
     },
     "metadata": {
      "needs_background": "light"
     },
     "output_type": "display_data"
    },
    {
     "data": {
      "image/png": "[encoded data removed]",
      "text/plain": [
       "<Figure size 720x576 with 1 Axes>"
      ]
     },
     "metadata": {
      "needs_background": "light"
     },
     "output_type": "display_data"
    }
   ],
   "source": [
    "fig, ax = plt.subplots(figsize=(10,8))\n",
    "\n",
    "ax.bar(x=top_10_dom_movies, height=top_10_dom_gross )\n",
    "# xticks rotation\n",
    "plt.xticks(rotation = '90')\n",
    "# title\n",
    "ax.set_title('Domestic gross distibution for top 10 movies ')\n",
    "ax.set_ylabel('Domestic Gross')\n",
    "ax.set_xlabel('Title(Movies)');\n",
    "\n",
    "fig, ax = plt.subplots(figsize=(10,8))\n",
    "\n",
    "ax.bar(x=top_10_forgn_movies, height=top_10_forgn_gross )\n",
    "# xticks rotation\n",
    "plt.xticks(rotation = '90')\n",
    "# title\n",
    "ax.set_title('Foreign gross distibution for top 10 movies ')\n",
    "ax.set_ylabel('Foreign Gross')\n",
    "ax.set_xlabel('Title(Movies)');"
   ]
  },
  {
   "cell_type": "markdown",
   "metadata": {},
   "source": [
    "As much as the two gross has a positive correlation, the two gross has **only one** film that appeared on the top 10. This show that each geographica location has thier own prefrence and test when it com to movies. Further investigation should be done including while condidering other factors."
   ]
  },
  {
   "cell_type": "markdown",
   "metadata": {},
   "source": [
    "It is also important to understand the trend of the movie industry and how they have been performing over time. Aline graph will show us the performance "
   ]
  },
  {
   "cell_type": "code",
   "execution_count": 589,
   "metadata": {},
   "outputs": [
    {
     "data": {
      "image/png": "[encoded data removed]",
      "text/plain": [
       "<Figure size 720x576 with 1 Axes>"
      ]
     },
     "metadata": {
      "needs_background": "light"
     },
     "output_type": "display_data"
    }
   ],
   "source": [
    "plt.subplots(figsize=(10,8))\n",
    "sns.lineplot(x = 'year', y = 'foreign_gross', data=df, color='r', lw=3, ci=None)\n",
    "sns.lineplot(x = 'year', y = 'domestic_gross', data=df, color='g', lw=3, ci=None)\n",
    "plt.legend(labels=['foreign_gross','domestic_gross'], facecolor='white')\n",
    "plt.title('Gross Line Graph')\n",
    "plt.xlabel('Year')\n",
    "plt.ylabel('Gross');"
   ]
  },
  {
   "cell_type": "markdown",
   "metadata": {},
   "source": [
    "The film industry has over time been increasing in terms of profitability. However, there are a times when the gross drops and the trend is seen in both domestic and foreign gross. In the year 2011, both gross dropped and and there after increase significantly on 2012 before dropping again. 2013,2014 there was a significant drop which went below the previous drop before it climb on 2015 until 2017. "
   ]
  },
  {
   "cell_type": "code",
   "execution_count": 583,
   "metadata": {},
   "outputs": [
    {
     "name": "stdout",
     "output_type": "stream",
     "text": [
      "['BV', 'WB', 'Fox', 'Sony', 'Uni.', 'Par.', 'P/DW', 'WB (NL)', 'LGF', 'Sum.']\n",
      "[31, 15, 12, 10, 9, 6, 5, 3, 2, 2]\n"
     ]
    }
   ],
   "source": [
    "# top foreign movies 100 movies \n",
    "forgn_df_top_100 =forgn_df.head(100)\n",
    "forgn_studio = dict(forgn_df_top_100['studio'].value_counts().head(10))\n",
    "top_forgn_studios = list(dict(dict(forgn_studio)).keys())\n",
    "top_forgn_studios_frg = list(dict(dict(forgn_studio)).values())\n",
    "\n",
    "print(top_forgn_studios)\n",
    "print(top_forgn_studios_frg)\n"
   ]
  },
  {
   "cell_type": "code",
   "execution_count": 584,
   "metadata": {},
   "outputs": [
    {
     "name": "stdout",
     "output_type": "stream",
     "text": [
      "['BV', 'WB', 'Uni.', 'Fox', 'Par.', 'Sony', 'WB (NL)', 'LGF', 'P/DW', 'Sum.']\n",
      "[35, 16, 15, 7, 6, 6, 4, 4, 4, 2]\n"
     ]
    }
   ],
   "source": [
    "# top 100 dommestic movies\n",
    "dom_df_top_100 = dom_df.head(100)\n",
    "dom_studio = dict(dom_df_top_100['studio'].value_counts().head(10))\n",
    "top_dom_studios = (list(dict(dict(dom_studio)).keys()))\n",
    "top_dom_studios_frq = list(dict(dict(dom_studio)).values())\n",
    "print(top_dom_studios)\n",
    "print(top_dom_studios_frq)"
   ]
  },
  {
   "cell_type": "markdown",
   "metadata": {},
   "source": [
    "Create a dataframe for top 100 most liked studios and plot a bar graph to compare the studios in relation to domestic and foriegn market."
   ]
  },
  {
   "cell_type": "code",
   "execution_count": 585,
   "metadata": {},
   "outputs": [],
   "source": [
    "# creating df for dommestic  favorite studios\n",
    "dom_studio_df = pd.DataFrame({'studios': top_dom_studios,\n",
    "                              'dom_studio_frq': top_dom_studios_frq ,\n",
    "                                })"
   ]
  },
  {
   "cell_type": "code",
   "execution_count": 586,
   "metadata": {},
   "outputs": [],
   "source": [
    "# creating df for foreign  favorite studios\n",
    "forgn_studio_df = pd.DataFrame({'studios': top_forgn_studios,\n",
    "                              'forgn_studio_frq': top_forgn_studios_frg,\n",
    "                                })"
   ]
  },
  {
   "cell_type": "code",
   "execution_count": 587,
   "metadata": {},
   "outputs": [
    {
     "data": {
      "image/png": "[encoded data removed]",
      "text/plain": [
       "<Figure size 720x576 with 1 Axes>"
      ]
     },
     "metadata": {
      "needs_background": "light"
     },
     "output_type": "display_data"
    }
   ],
   "source": [
    "# ploting bar graph for most favorite studios\n",
    "fig, ax = plt.subplots(figsize = (10,8))\n",
    "\n",
    "index = np.arange(len(forgn_studio_df['studios']))\n",
    "bar_width = 0.35\n",
    "opacity = 0.8\n",
    "\n",
    "forgn_studio_df.forgn_studio_frq.plot(kind='bar', color='purple', ax=ax, width=bar_width, position=1)\n",
    "dom_studio_df.dom_studio_frq.plot(kind='bar', color='blue', ax=ax, width=bar_width, position=0)\n",
    "ax.set_xlim(-0.5)\n",
    "ax.set_xticks(index)\n",
    "ax.set_xticklabels(forgn_studio_df['studios'])\n",
    "ax.set_title('Most Like Studios')\n",
    "ax.set_xlabel('Studios')\n",
    "ax.set_ylabel('Studio Frequency')\n",
    "plt.legend();"
   ]
  },
  {
   "cell_type": "markdown",
   "metadata": {},
   "source": [
    "In the top 100 best performing films in both domestic and foreign gross. There are 10 most prefered film producers. In both markets, **`BV`** is the most prefered film producer which has 35 and 31 in domestic and foreign gross respectively. Then followed by **`WB`** less by 15 like from BV. It is thus advisable to have more films from BV and WB so as to make profits."
   ]
  },
  {
   "cell_type": "code",
   "execution_count": null,
   "metadata": {},
   "outputs": [],
   "source": []
  },
  {
   "cell_type": "code",
   "execution_count": null,
   "metadata": {},
   "outputs": [],
   "source": [
    "\n"
   ]
  }
 ],
 "metadata": {
  "kernelspec": {
   "display_name": "Python (learn-env)",
   "language": "python",
   "name": "learn-env"
  },
  "language_info": {
   "codemirror_mode": {
    "name": "ipython",
    "version": 3
   },
   "file_extension": ".py",
   "mimetype": "text/x-python",
   "name": "python",
   "nbconvert_exporter": "python",
   "pygments_lexer": "ipython3",
   "version": "3.8.5"
  }
 },
 "nbformat": 4,
 "nbformat_minor": 2
}
